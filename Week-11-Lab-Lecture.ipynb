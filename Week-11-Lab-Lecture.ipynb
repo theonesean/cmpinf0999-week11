{
 "cells": [
  {
   "cell_type": "markdown",
   "metadata": {},
   "source": [
    "# Week 11 Lab Lecture\n",
    "\n",
    "## Visualizing Data with Python\n",
    "\n",
    "### Topics\n",
    "\n",
    "* intro to data visualization\n",
    "* pandasplot and matplotlib\n",
    "* types of plots\n",
    "* plot \\~\\*aesthetics\\*\\~\n",
    "\n",
    "### Project\n",
    "\n",
    "You don't have any exercises for this week, but your final project will be out tonight!\n",
    "\n",
    "I would suggest using GitHub to collaborate with your partner on your project; I go over that in more detail in the project itself.\n",
    "\n",
    "### Office Hours\n",
    "\n",
    "If you need any help with your final project (or anything else), I'm reachable via email at spb60@pitt.edu. Additionally, I'll be holding my regular office hours: \n",
    "\n",
    "* Monday from 2pm-4pm\n",
    "* Tuesday from 11am-1pm\n",
    "\n",
    "Office hours are held in the Digital Scholarship Commons, in the back of the ground floor of Hillman."
   ]
  },
  {
   "cell_type": "markdown",
   "metadata": {},
   "source": [
    "# Data Visualization: a bird's-eye view\n",
    "\n",
    "\n",
    "I assume you already know what data visualization *is*; The *real* question is *how* to visualize data AND *what* visualization to use.\n",
    "\n",
    "There are many different kinds of data visualizations and which one is the best for any given situation is a loaded question.\n",
    "\n",
    "![XKCD comic on data viz](https://imgs.xkcd.com/comics/self_description.png)\n",
    "\n",
    "## What kinds of visulizations are there?\n",
    "\n",
    "* Here is a semi-ugly-looking periodic table of visualization methods: [http://www.visual-literacy.org/periodic_table/periodic_table.html](http://www.visual-literacy.org/periodic_table/periodic_table.html)\n",
    "* Here is a good website cataloguing many of the different types of visualizations: [http://www.datavizcatalogue.com](http://www.datavizcatalogue.com)\n",
    "* For example, here is the information about [box charts](http://www.datavizcatalogue.com/methods/bar_chart.html)\n",
    "\n",
    "When making a data visualization, you need to consider how various visual elements can convey the information you wish to show. There are many ways to represent quantitative information visually."
   ]
  },
  {
   "cell_type": "markdown",
   "metadata": {},
   "source": [
    "# Data Visualization in Python\n",
    "\n",
    "There are many libraries for doing data visualization in Python, and none of them are perfect. Like pandas, they all have some clunky aspects, questionable design decisions, and esoteric features.\n",
    "\n",
    "`matplotlib` is a very powerful data visualization toolkit for Python, but it is a bit clunky and old school.\n",
    "\n",
    "There are newer alternatives to graphing in Python:\n",
    "* [Seaborn](http://seaborn.pydata.org/#), built on top of matplotlib, provides an easier (and more asthetically pleasing) programming interface \n",
    "* [Bokeh](http://bokeh.pydata.org/en/latest/), which is great for displaying data on the web\n",
    "* [Plotly](https://plot.ly/python/), which is a whole subscription based web service\n",
    "* [plotnine](https://plotnine.readthedocs.io/en/stable/), a python implementation of the very popular visualization library GGPlot from R\n",
    "* [Altair](https://altair-viz.github.io), which is a new *declarative* visualization library from one of the Jupyter developers\n",
    "\n",
    "Still, `matplotlib` is the OG of the python data visualization libraries, so being familiar with it and its syntax is important. The `.plot` function in pandas uses `matplotlib` under the hood, and you can use `matplotlib` functions to change the way that pandas displays data."
   ]
  },
  {
   "cell_type": "markdown",
   "metadata": {},
   "source": [
    "# Data Visualization with Pandas\n"
   ]
  },
  {
   "cell_type": "code",
   "execution_count": null,
   "metadata": {},
   "outputs": [],
   "source": [
    "import pandas as pd\n",
    "import numpy as np\n",
    "%matplotlib inline\n",
    "import matplotlib.pyplot as plt"
   ]
  },
  {
   "cell_type": "markdown",
   "metadata": {},
   "source": [
    "As an alternative to the `pyplot` or the object oriented interface, you can plot directly from `pandas` data structures. Pandas [has its own interface](https://pandas.pydata.org/pandas-docs/stable/visualization.html#) to matplotlib tied directly to the `Series` and `Dataframe` data structures.\n",
    "\n",
    "I find this to be the most useful mechanism for visualizing data, but let's do some data visualization so we can get a sense for it."
   ]
  },
  {
   "cell_type": "code",
   "execution_count": null,
   "metadata": {},
   "outputs": [],
   "source": [
    "# create some random data\n",
    "x = np.linspace(0, 10, 100)\n",
    "# put that data into a dataframe\n",
    "df = pd.DataFrame({\"y\":np.sin(x), \"z\":np.cos(x)}, index=x)\n",
    "df.head()"
   ]
  },
  {
   "cell_type": "code",
   "execution_count": null,
   "metadata": {},
   "outputs": [],
   "source": [
    "df.plot()"
   ]
  },
  {
   "cell_type": "markdown",
   "metadata": {},
   "source": [
    "So, aside from the actual content of the graph, we've seen this before.\n",
    "\n",
    "Basically, you can add a `.plot()` to the end of any Pandas datastructure and it will make a best guess as to the best way to visualize it. This is highly context-dependent."
   ]
  },
  {
   "cell_type": "code",
   "execution_count": null,
   "metadata": {},
   "outputs": [],
   "source": [
    "# Plot data in a Series with the plot method\n",
    "pd.Series(np.random.randint(0,10,10)).plot();"
   ]
  },
  {
   "cell_type": "markdown",
   "metadata": {},
   "source": [
    "However, be careful calling `.plot()` all willy nilly since it doesn't always produce sensible results."
   ]
  },
  {
   "cell_type": "code",
   "execution_count": null,
   "metadata": {},
   "outputs": [],
   "source": [
    "# create some random time series data and create a default plot\n",
    "random_series = pd.Series(np.random.randn(1000), \n",
    "                          index=pd.date_range('1/1/2000', periods=1000))\n",
    "random_series.plot();"
   ]
  },
  {
   "cell_type": "markdown",
   "metadata": {},
   "source": [
    "You can often use the `.plot()` method after performing some computation on the data. \n",
    "\n",
    "For example, we've looked at the [cumulative sum](http://www.variation.com/cpa/help/hs108.htm) (the cumulative sum of differences between the values and the average) before when looking at the community center data. \n",
    "\n",
    "For the cumulative sum, sloping up means above average, sloping down means below average."
   ]
  },
  {
   "cell_type": "code",
   "execution_count": null,
   "metadata": {},
   "outputs": [],
   "source": [
    "# Plot the cumulative sum of a Series\n",
    "random_series.cumsum().plot()"
   ]
  },
  {
   "cell_type": "markdown",
   "metadata": {},
   "source": [
    "Up until now, we've been plotting Series, but we can just as easily use `.plot` with DataFrames."
   ]
  },
  {
   "cell_type": "code",
   "execution_count": null,
   "metadata": {},
   "outputs": [],
   "source": [
    "# create dataframe with four columns and create a default plot\n",
    "df = pd.DataFrame(np.random.randn(1000, 4), index=random_series.index, columns=list('ABCD'))\n",
    "df.head()"
   ]
  },
  {
   "cell_type": "code",
   "execution_count": null,
   "metadata": {},
   "outputs": [],
   "source": [
    "df.plot();"
   ]
  },
  {
   "cell_type": "markdown",
   "metadata": {},
   "source": [
    "The legend is kind of in the way there, so let's move it out of the way. This is where `pandas.plot()` being matplotlib under the hood is useful; you can use multiple interfaces to affect changes."
   ]
  },
  {
   "cell_type": "code",
   "execution_count": null,
   "metadata": {},
   "outputs": [],
   "source": [
    "# use the pandas interface to generate the plot\n",
    "df.plot();\n",
    "# use the pyplot interface to manipulate the plot\n",
    "plt.legend(bbox_to_anchor=(1,1));"
   ]
  },
  {
   "cell_type": "markdown",
   "metadata": {},
   "source": [
    "There we go! But that data is, well, literally random and very ugly. Let's try the cumulative sum, get something that looks a bit better."
   ]
  },
  {
   "cell_type": "code",
   "execution_count": null,
   "metadata": {},
   "outputs": [],
   "source": [
    "# plot the cumulative sum of each column\n",
    "df.cumsum().plot();"
   ]
  },
  {
   "cell_type": "markdown",
   "metadata": {},
   "source": [
    "## Getting beyond the defaults\n",
    "\n",
    "With pandas you can specify the kind of visualization with the `kind` parameter to `plot()`. The default isn't always what you want. For example:"
   ]
  },
  {
   "cell_type": "code",
   "execution_count": null,
   "metadata": {},
   "outputs": [],
   "source": [
    "# plot the sum of the columns\n",
    "df.sum().plot()\n",
    "# draw a black horizontal line at zero\n",
    "plt.axhline(0, color='k');"
   ]
  },
  {
   "cell_type": "markdown",
   "metadata": {},
   "source": [
    "This is a bad visualization. The line at zero implied an ordered relationship between these categories. pandas chose a line plot when a bar chart would've been better. So, let's change that!"
   ]
  },
  {
   "cell_type": "code",
   "execution_count": null,
   "metadata": {},
   "outputs": [],
   "source": [
    "# plot the sum of the columns as bars\n",
    "df.sum().plot(kind='bar')\n",
    "# draw a black horizontal line\n",
    "plt.axhline(0, color='k')"
   ]
  },
  {
   "cell_type": "markdown",
   "metadata": {},
   "source": [
    "Random data can be fun, but let's look at something a bit more understandable."
   ]
  },
  {
   "cell_type": "code",
   "execution_count": null,
   "metadata": {},
   "outputs": [],
   "source": [
    "# Create a bar chart using the index as the category labels\n",
    "pd.Series([1,5,2,5], index=[\"cats\", \"dogs\", \"chickens\", \"spiders\"]).plot.bar();"
   ]
  },
  {
   "cell_type": "markdown",
   "metadata": {},
   "source": [
    "The labels are... weird. So, let's fix them!"
   ]
  },
  {
   "cell_type": "markdown",
   "metadata": {},
   "source": [
    "----\n",
    "### **Group Exercise**: fix my work\n",
    "\n",
    "Your exercise is to find the documentation for the `plot()` method of a pandas Series. (Google is your friend.) What parameter should you specify so we can read the labels?\n",
    "\n",
    "Here's your starter code, good luck!"
   ]
  },
  {
   "cell_type": "code",
   "execution_count": null,
   "metadata": {},
   "outputs": [],
   "source": [
    "animals = pd.Series([1,5,2,5], index=[\"cats\", \"dogs\", \"chickens\", \"spiders\"])\n",
    "\n",
    "# yr code here"
   ]
  },
  {
   "cell_type": "markdown",
   "metadata": {},
   "source": [
    "----"
   ]
  },
  {
   "cell_type": "markdown",
   "metadata": {},
   "source": [
    "# pandas plot types\n",
    "\n",
    "pandas provides a quick and easy interface to a bunch of different plot types; you don't even have to load `matplotlib` (although you do need `%matplotlib inline`, which is Jupyter-specific).\n",
    "\n",
    "The secret to plotting is **Googling**, looking at other people's code, and trying things until it works. At least, that is how I do it.\n",
    "\n",
    "What's nice about pandas/matplotlib integration is pandas will handle a lot of the boilerplate code for you, so you don't have to learn any ugly matplotlib syntax to do some pretty powerful plotting. You, as you discovered in that exercise, pass parameters to the `plot()` method to determine how the graph should look."
   ]
  },
  {
   "cell_type": "code",
   "execution_count": null,
   "metadata": {},
   "outputs": [],
   "source": [
    "# create some random categorical data\n",
    "df2 = pd.DataFrame(np.random.randint(1,100,size=(7,4)), \n",
    "                   columns=['Carbs', 'Fats', 'Proteins', 'Other'], \n",
    "                   index=[\"M\",\"Tu\",\"W\",\"Th\",\"F\",\"Sa\",\"Su\",])\n",
    "\n",
    "# Plot a bar chart\n",
    "df2.plot(kind=\"bar\");"
   ]
  },
  {
   "cell_type": "markdown",
   "metadata": {},
   "source": [
    "Bar charts can also be called directly using the `bar()` function."
   ]
  },
  {
   "cell_type": "code",
   "execution_count": null,
   "metadata": {},
   "outputs": [],
   "source": [
    "df2.plot.bar();"
   ]
  },
  {
   "cell_type": "markdown",
   "metadata": {},
   "source": [
    "There are a bunch of parameters for these methods that let you tweak the vizualization. For example, the `stacked` parameter stacks the categorical values so you can easily compare within and across categories."
   ]
  },
  {
   "cell_type": "code",
   "execution_count": null,
   "metadata": {},
   "outputs": [],
   "source": [
    "df2.plot.bar(stacked=True, rot=0);"
   ]
  },
  {
   "cell_type": "markdown",
   "metadata": {},
   "source": [
    "----\n",
    "### **Group Exercise**: choose some plots\n",
    "\n",
    "Try experimenting with other plot types! You can use Google, but I recommend reading through the list that you get when you use tab-completion on Jupyter."
   ]
  },
  {
   "cell_type": "code",
   "execution_count": null,
   "metadata": {},
   "outputs": [],
   "source": [
    "df2.plot."
   ]
  },
  {
   "cell_type": "markdown",
   "metadata": {},
   "source": [
    "Do the plots you've looked at make sense with the data?\n",
    "\n",
    "----"
   ]
  },
  {
   "cell_type": "markdown",
   "metadata": {},
   "source": [
    "## A bunch of plot options\n",
    "\n",
    "Let's look at some sample data, and a bunch of different ways of visualising it!"
   ]
  },
  {
   "cell_type": "code",
   "execution_count": null,
   "metadata": {},
   "outputs": [],
   "source": [
    "df = pd.read_csv(\"diabetes.csv\")\n",
    "# Drop the missing values rows\n",
    "df = df.dropna()\n",
    "df.head(5)"
   ]
  },
  {
   "cell_type": "markdown",
   "metadata": {},
   "source": [
    "### Density Plot\n",
    "\n",
    "Visualises the distribution of data over a continuous interval or time period. A variation of a histogram that uses kernel smoothing to plot values, allowing for smoother distributions by smoothing out the noise. \n",
    "\n",
    "The peaks of a density plot help display where values are concentrated over the interval.\n",
    "\n",
    "[You can read more about density plots here.](https://datavizcatalogue.com/methods/density_plot.html)"
   ]
  },
  {
   "cell_type": "code",
   "execution_count": null,
   "metadata": {},
   "outputs": [],
   "source": [
    "df[\"chol\"].plot.density()\n",
    "df[\"weight\"].plot.density();"
   ]
  },
  {
   "cell_type": "markdown",
   "metadata": {},
   "source": [
    "### Box Plot\n",
    "\n",
    "A convenient way of visually displaying the data distribution through their quartiles.\n",
    "\n",
    "The lines extending parallel from the boxes are known as the whiskers and indicate variability outside the upper and lower quartiles. Outliers are sometimes plotted as individual dots that are in-line with whiskers. "
   ]
  },
  {
   "cell_type": "code",
   "execution_count": null,
   "metadata": {},
   "outputs": [],
   "source": [
    "df[\"chol\"].plot.box();"
   ]
  },
  {
   "cell_type": "markdown",
   "metadata": {},
   "source": [
    "### Histogram\n",
    "\n",
    "Visualises the distribution of data over a continuous interval or certain time period. \n",
    "\n",
    "Each bar in a histogram represents the tabulated frequency at each interval/bin. Help give an estimate as to where values are concentrated, what the extremes are and whether there are any gaps or unusual values. \n",
    "\n",
    "[Read more here!](https://datavizcatalogue.com/methods/histogram.html)"
   ]
  },
  {
   "cell_type": "code",
   "execution_count": null,
   "metadata": {},
   "outputs": [],
   "source": [
    "df[\"chol\"].hist(bins=50);"
   ]
  },
  {
   "cell_type": "code",
   "execution_count": null,
   "metadata": {},
   "outputs": [],
   "source": [
    "# use the bins parameter to adjust the granularity\n",
    "df[\"chol\"].hist(bins=10);"
   ]
  },
  {
   "cell_type": "markdown",
   "metadata": {},
   "source": [
    "### Scatter Plot\n",
    "\n",
    "You know what a scatterplot is. Use a collection of points placed using cartesian coördinates to display values from two variables. \n",
    "\n",
    "By displaying a variable in each axis, you can detect if a relationship or correlation between the two variables exists.\n",
    "\n",
    "[Read more!](https://datavizcatalogue.com/methods/scatterplot.html)"
   ]
  },
  {
   "cell_type": "code",
   "execution_count": null,
   "metadata": {},
   "outputs": [],
   "source": [
    "df.plot(kind='scatter', x='chol', y='weight', title=\"Cholesterol vs. Weight\");"
   ]
  },
  {
   "cell_type": "code",
   "execution_count": null,
   "metadata": {},
   "outputs": [],
   "source": [
    "# The c parameter may be given as the name of a column to provide colors for each point\n",
    "df.plot(kind='scatter', x='chol', y='weight', \n",
    "        c='stab.glu', \n",
    "        title=\"Cholesterol vs. Weight\");"
   ]
  },
  {
   "cell_type": "code",
   "execution_count": null,
   "metadata": {},
   "outputs": [],
   "source": [
    "# the s parameter can be used to adjust the size of the points\n",
    "df.plot(kind='scatter', x='chol', y='weight', \n",
    "        c='stab.glu', \n",
    "        s=df[\"height\"], \n",
    "        title=\"Cholesterol vs. Weight\");"
   ]
  },
  {
   "cell_type": "markdown",
   "metadata": {},
   "source": [
    "### Scatterplot Matrix\n",
    "\n",
    "Scatterplot matrices are a great way to roughly determine if you have a linear correlation between multiple variables. This is particularly helpful in pinpointing specific variables that might have similar correlations. \n",
    "\n",
    "[More about them!](https://www.r-bloggers.com/scatterplot-matrices/)"
   ]
  },
  {
   "cell_type": "code",
   "execution_count": null,
   "metadata": {},
   "outputs": [],
   "source": [
    "from pandas.plotting import scatter_matrix\n",
    "scatter_matrix(df[['chol', 'stab.glu', 'hdl', 'ratio', 'glyhb']], # Make a scatter matrix of all columns\n",
    "               figsize=(30, 30), # Set plot size\n",
    "               diagonal='kde');  # Show distribution estimates on diagonal"
   ]
  },
  {
   "cell_type": "markdown",
   "metadata": {},
   "source": [
    "### Bubble Chart\n",
    "\n",
    "Uses a Cartesian coordinate system to plot points along a grid where the X and Y axis are separate variables.\n",
    "\n",
    "Each point is assigned a label or category. Each plotted point then represents a third variable by the area of its circle. Colors can be used to distinguish between categories or used to represent an additional data variable. \n",
    "\n",
    "Used to compare and show the relationships between categorised circles, by the use of positioning and proportions. The overall picture can be use to analyse for patterns/correlations."
   ]
  },
  {
   "cell_type": "code",
   "execution_count": null,
   "metadata": {},
   "outputs": [],
   "source": [
    "df.plot(kind='scatter', x='chol', y='weight', \n",
    "        c='hdl', \n",
    "        s=df['stab.glu'] / 2, \n",
    "        title=\"Cholesterol vs. Weight\");"
   ]
  },
  {
   "cell_type": "markdown",
   "metadata": {},
   "source": [
    "### Hexbin Plot\n",
    "\n",
    "Hexbin plots can be a useful alternative to scatter plots or bubble charts if your data are too dense to plot each point individually."
   ]
  },
  {
   "cell_type": "code",
   "execution_count": null,
   "metadata": {},
   "outputs": [],
   "source": [
    "# generate a hexbin plot\n",
    "df.plot.hexbin(x='chol', y='weight', gridsize=20);"
   ]
  },
  {
   "cell_type": "code",
   "execution_count": null,
   "metadata": {},
   "outputs": [],
   "source": [
    "# use the gridsize parameter to adjust the granularity\n",
    "df.plot.hexbin(x='chol', y='weight', gridsize=50);"
   ]
  },
  {
   "cell_type": "markdown",
   "metadata": {},
   "source": [
    "### Bar Chart\n",
    "\n",
    "Uses either horizontal or vertical bars to show discrete, numerical comparisons across categories. \n",
    "\n",
    "One axis of the chart shows the specific categories being compared and the other axis represents a discrete value scale. \n",
    "\n",
    "Distinguished from histograms as they do not display continuous developments over an interval. The discrete data here is categorical data and therefore answers the question of \"how many?\" in each category.\n",
    "\n",
    "[I wonder what this link does.](https://datavizcatalogue.com/methods/bar_chart.html)"
   ]
  },
  {
   "cell_type": "code",
   "execution_count": null,
   "metadata": {},
   "outputs": [],
   "source": [
    "# For continuous data:\n",
    "\n",
    "df[\"chol\"].plot.bar();"
   ]
  },
  {
   "cell_type": "markdown",
   "metadata": {},
   "source": [
    "Bar charts... have their drawbacks."
   ]
  },
  {
   "cell_type": "code",
   "execution_count": null,
   "metadata": {},
   "outputs": [],
   "source": [
    "# For discrete data\n",
    "df[\"gender\"].value_counts().sort_index().plot(kind='bar', rot=0);"
   ]
  },
  {
   "cell_type": "markdown",
   "metadata": {},
   "source": [
    "### Pie Chart\n",
    "\n",
    "Fun! Pie charts are fun. I'm hungry now."
   ]
  },
  {
   "cell_type": "code",
   "execution_count": null,
   "metadata": {},
   "outputs": [],
   "source": [
    "# For continuous data (pretty useless)\n",
    "df[[\"chol\"]].plot.pie(y='chol', subplots=False, figsize=(8, 4));"
   ]
  },
  {
   "cell_type": "code",
   "execution_count": null,
   "metadata": {},
   "outputs": [],
   "source": [
    "# For discrete data\n",
    "df[\"gender\"].value_counts().sort_index().plot.pie(y='gender', \n",
    "                                                  subplots=False, \n",
    "                                                  figsize=(8, 4));"
   ]
  },
  {
   "cell_type": "code",
   "execution_count": null,
   "metadata": {},
   "outputs": [],
   "source": [
    "# For discrete data\n",
    "df[\"frame\"].value_counts().sort_index().plot.pie(y='gender', \n",
    "                                                 subplots=False, \n",
    "                                                 figsize=(8, 4));"
   ]
  },
  {
   "cell_type": "markdown",
   "metadata": {},
   "source": [
    "# Plot twist\n",
    "\n",
    "We can format plots by passing parameters to the `plot()` function, or you can set features using `plt`."
   ]
  },
  {
   "cell_type": "code",
   "execution_count": null,
   "metadata": {},
   "outputs": [],
   "source": [
    "# Add a title with the title parameter\n",
    "df2.plot.bar(stacked=True, title=\"Diet\");"
   ]
  },
  {
   "cell_type": "code",
   "execution_count": null,
   "metadata": {},
   "outputs": [],
   "source": [
    "# Same thing as above, but through the pyplot interface\n",
    "df2.plot.bar(stacked=True)\n",
    "plt.title(\"Diet\");"
   ]
  },
  {
   "cell_type": "markdown",
   "metadata": {},
   "source": [
    "Some things are easier with `pyplot` (`plt`), like tweaking x and y labels."
   ]
  },
  {
   "cell_type": "code",
   "execution_count": null,
   "metadata": {},
   "outputs": [],
   "source": [
    "df2.plot.bar(stacked=True)\n",
    "plt.title(\"Diet\")\n",
    "plt.xlabel(\"Days\")\n",
    "plt.ylabel(\"Nutrients per day\");"
   ]
  },
  {
   "cell_type": "markdown",
   "metadata": {},
   "source": [
    "Let's make the y-axis bigger!"
   ]
  },
  {
   "cell_type": "code",
   "execution_count": null,
   "metadata": {},
   "outputs": [],
   "source": [
    "# modify the y axis to start at zero and go to four\n",
    "df2.plot(kind='bar', stacked=True, ylim=[0,350])\n",
    "plt.title(\"Diet\")\n",
    "plt.xlabel(\"Days\")\n",
    "plt.ylabel(\"Nutrients per Day\");"
   ]
  },
  {
   "cell_type": "markdown",
   "metadata": {},
   "source": [
    "## Stylin'\n",
    "\n",
    "To help with the overall aesthetic of your plots, you can set different styles. Some look better than others."
   ]
  },
  {
   "cell_type": "code",
   "execution_count": null,
   "metadata": {},
   "outputs": [],
   "source": [
    "# This is what happens when scientists do visual design\n",
    "plt.style.use('classic')\n",
    "df2.plot.bar(stacked=True);"
   ]
  },
  {
   "cell_type": "markdown",
   "metadata": {},
   "source": [
    "You can see what styles are available using the following:"
   ]
  },
  {
   "cell_type": "code",
   "execution_count": null,
   "metadata": {},
   "outputs": [],
   "source": [
    "plt.style.available"
   ]
  },
  {
   "cell_type": "markdown",
   "metadata": {},
   "source": [
    "----\n",
    "### **Group Exercise**: eye bleach\n",
    "\n",
    "Using the data in `df2`, test out some different styles of plots! See what looks good to you."
   ]
  },
  {
   "cell_type": "code",
   "execution_count": null,
   "metadata": {},
   "outputs": [],
   "source": []
  },
  {
   "cell_type": "code",
   "execution_count": null,
   "metadata": {},
   "outputs": [],
   "source": []
  },
  {
   "cell_type": "code",
   "execution_count": null,
   "metadata": {},
   "outputs": [],
   "source": []
  },
  {
   "cell_type": "markdown",
   "metadata": {},
   "source": [
    "----"
   ]
  },
  {
   "cell_type": "markdown",
   "metadata": {},
   "source": [
    "# Wrapping up\n",
    "\n",
    "Data visualization is fun! This is a pretty big chunk of what you can do with pandas and Python, but there's a ton more.\n",
    "\n",
    "Let's take a look at an example of a Jupyter notebook that sums up a lot of stuff we've been working on: https://mybinder.org/v2/gh/jakevdp/SeattleBike/master?filepath=SeattleCycling.ipynb"
   ]
  }
 ],
 "metadata": {
  "kernelspec": {
   "display_name": "Python 3.7",
   "language": "python",
   "name": "python3"
  },
  "language_info": {
   "codemirror_mode": {
    "name": "ipython",
    "version": 3
   },
   "file_extension": ".py",
   "mimetype": "text/x-python",
   "name": "python",
   "nbconvert_exporter": "python",
   "pygments_lexer": "ipython3",
   "version": "3.7.0"
  }
 },
 "nbformat": 4,
 "nbformat_minor": 2
}
